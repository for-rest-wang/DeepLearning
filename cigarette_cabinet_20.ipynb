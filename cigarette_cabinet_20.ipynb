{
 "cells": [
  {
   "cell_type": "code",
   "execution_count": 13,
   "metadata": {
    "_cell_guid": "79c7e3d0-c299-4dcb-8224-4455121ee9b0",
    "_uuid": "d629ff2d2480ee46fbb7e2d37f6b5fab8052498a"
   },
   "outputs": [
    {
     "name": "stdout",
     "output_type": "stream",
     "text": [
      "2.0.0\n"
     ]
    }
   ],
   "source": [
    "#!/usr/bin/python2.6  \n",
    "# -*- coding: utf-8 -*-  \n",
    "%matplotlib inline\n",
    "import matplotlib as mpl\n",
    "import matplotlib.pyplot as plt\n",
    "import numpy as np\n",
    "import os\n",
    "import pandas as pd\n",
    "import sklearn\n",
    "import sys\n",
    "import tensorflow as tf\n",
    "import time\n",
    "\n",
    "from tensorflow import keras\n",
    "from tensorflow.keras.preprocessing import image\n",
    "print(tf.__version__)"
   ]
  },
  {
   "cell_type": "code",
   "execution_count": 14,
   "metadata": {},
   "outputs": [],
   "source": [
    "train_dir = \"/opt/tv/training/training\"\n",
    "valid_dir = \"/opt/tv/validation/validation\"\n",
    "\n",
    "dir1 = os.listdir(train_dir)\n",
    "\n",
    "height = 128\n",
    "width = 128\n",
    "channels = 3\n",
    "batch_size = 16\n",
    "num_classes = 20"
   ]
  },
  {
   "cell_type": "code",
   "execution_count": 15,
   "metadata": {},
   "outputs": [
    {
     "name": "stdout",
     "output_type": "stream",
     "text": [
      "Found 1100 images belonging to 20 classes.\n",
      "Found 21 images belonging to 20 classes.\n",
      "1100\n",
      "21\n"
     ]
    }
   ],
   "source": [
    "train_datagen = keras.preprocessing.image.ImageDataGenerator(\n",
    "    rescale = 1./255,\n",
    "    rotation_range = 20,\n",
    "    shear_range = 0.2,\n",
    "    zoom_range = 0.2,\n",
    "    channel_shift_range=10,\n",
    "    brightness_range=[0.1, 1],\n",
    "    fill_mode = 'nearest',\n",
    ")\n",
    "\n",
    "train_generator = train_datagen.flow_from_directory(train_dir,\n",
    "                                                   target_size = (height, width),\n",
    "                                                   batch_size = batch_size,\n",
    "                                                   seed = 7,\n",
    "                                                   shuffle = True,\n",
    "                                                   class_mode = \"categorical\")\n",
    "\n",
    "valid_datagen = keras.preprocessing.image.ImageDataGenerator(rescale = 1./255)\n",
    "valid_generator = valid_datagen.flow_from_directory(valid_dir,\n",
    "                                                    target_size = (height, width),\n",
    "                                                    batch_size = batch_size,\n",
    "                                                    seed = 7,\n",
    "                                                    shuffle = False,\n",
    "                                                    class_mode = \"categorical\")\n",
    "\n",
    "train_num = train_generator.samples\n",
    "valid_num = valid_generator.samples\n",
    "print(train_num)\n",
    "print(valid_num)"
   ]
  },
  {
   "cell_type": "code",
   "execution_count": 16,
   "metadata": {},
   "outputs": [
    {
     "name": "stdout",
     "output_type": "stream",
     "text": [
      "Model: \"sequential_1\"\n",
      "_________________________________________________________________\n",
      "Layer (type)                 Output Shape              Param #   \n",
      "=================================================================\n",
      "conv2d_10 (Conv2D)           (None, 128, 128, 8)       224       \n",
      "_________________________________________________________________\n",
      "conv2d_11 (Conv2D)           (None, 128, 128, 8)       584       \n",
      "_________________________________________________________________\n",
      "max_pooling2d_5 (MaxPooling2 (None, 64, 64, 8)         0         \n",
      "_________________________________________________________________\n",
      "conv2d_12 (Conv2D)           (None, 64, 64, 16)        1168      \n",
      "_________________________________________________________________\n",
      "conv2d_13 (Conv2D)           (None, 64, 64, 16)        2320      \n",
      "_________________________________________________________________\n",
      "max_pooling2d_6 (MaxPooling2 (None, 32, 32, 16)        0         \n",
      "_________________________________________________________________\n",
      "conv2d_14 (Conv2D)           (None, 32, 32, 32)        4640      \n",
      "_________________________________________________________________\n",
      "conv2d_15 (Conv2D)           (None, 32, 32, 32)        9248      \n",
      "_________________________________________________________________\n",
      "max_pooling2d_7 (MaxPooling2 (None, 16, 16, 32)        0         \n",
      "_________________________________________________________________\n",
      "conv2d_16 (Conv2D)           (None, 16, 16, 64)        18496     \n",
      "_________________________________________________________________\n",
      "conv2d_17 (Conv2D)           (None, 16, 16, 64)        36928     \n",
      "_________________________________________________________________\n",
      "max_pooling2d_8 (MaxPooling2 (None, 8, 8, 64)          0         \n",
      "_________________________________________________________________\n",
      "conv2d_18 (Conv2D)           (None, 8, 8, 128)         73856     \n",
      "_________________________________________________________________\n",
      "conv2d_19 (Conv2D)           (None, 8, 8, 128)         147584    \n",
      "_________________________________________________________________\n",
      "max_pooling2d_9 (MaxPooling2 (None, 4, 4, 128)         0         \n",
      "_________________________________________________________________\n",
      "flatten_1 (Flatten)          (None, 2048)              0         \n",
      "_________________________________________________________________\n",
      "dense_2 (Dense)              (None, 128)               262272    \n",
      "_________________________________________________________________\n",
      "dense_3 (Dense)              (None, 20)                2580      \n",
      "=================================================================\n",
      "Total params: 559,900\n",
      "Trainable params: 559,900\n",
      "Non-trainable params: 0\n",
      "_________________________________________________________________\n"
     ]
    }
   ],
   "source": [
    "model = keras.models.Sequential([\n",
    "\n",
    "    keras.layers.Conv2D(filters=8, kernel_size=3, padding='same',\n",
    "                        activation='relu', input_shape=[width, height, channels]),\n",
    "    keras.layers.Conv2D(filters=8, kernel_size=3, padding='same',\n",
    "                        activation='relu'),\n",
    "    keras.layers.MaxPool2D(pool_size=2),\n",
    "\n",
    "    keras.layers.Conv2D(filters=16, kernel_size=3, padding='same',\n",
    "                        activation='relu', input_shape=[width, height, channels]),\n",
    "    keras.layers.Conv2D(filters=16, kernel_size=3, padding='same',\n",
    "                        activation='relu'),\n",
    "    keras.layers.MaxPool2D(pool_size=2),\n",
    "    \n",
    "    keras.layers.Conv2D(filters=32, kernel_size=3, padding='same',\n",
    "                        activation='relu', input_shape=[width, height, channels]),\n",
    "    keras.layers.Conv2D(filters=32, kernel_size=3, padding='same',\n",
    "                        activation='relu'),\n",
    "    keras.layers.MaxPool2D(pool_size=2),\n",
    "    \n",
    "    keras.layers.Conv2D(filters=64, kernel_size=3, padding='same',\n",
    "                        activation='relu'),\n",
    "    keras.layers.Conv2D(filters=64, kernel_size=3, padding='same',\n",
    "                        activation='relu'),\n",
    "    keras.layers.MaxPool2D(pool_size=2),\n",
    "    \n",
    "    keras.layers.Conv2D(filters=128, kernel_size=3, padding='same',\n",
    "                        activation='relu', input_shape=[width, height, channels]),\n",
    "    keras.layers.Conv2D(filters=128, kernel_size=3, padding='same',\n",
    "                        activation='relu'),\n",
    "    keras.layers.MaxPool2D(pool_size=2),\n",
    "    \n",
    "    keras.layers.Flatten(),\n",
    "    keras.layers.Dense(128, activation='relu'),\n",
    "    keras.layers.Dense(num_classes, activation='softmax'),\n",
    "])\n",
    "\n",
    "model.compile(loss=\"categorical_crossentropy\",\n",
    "              optimizer=\"adam\", metrics=['accuracy'])\n",
    "model.summary()"
   ]
  },
  {
   "cell_type": "code",
   "execution_count": 17,
   "metadata": {
    "scrolled": true
   },
   "outputs": [
    {
     "name": "stdout",
     "output_type": "stream",
     "text": [
      "Epoch 1/50\n",
      "68/68 [==============================] - 11s 164ms/step - loss: 2.8662 - accuracy: 0.1494 - val_loss: 2.8822 - val_accuracy: 0.0625\n",
      "Epoch 2/50\n",
      "68/68 [==============================] - 11s 159ms/step - loss: 2.3527 - accuracy: 0.2232 - val_loss: 2.4676 - val_accuracy: 0.2500\n",
      "Epoch 3/50\n",
      "68/68 [==============================] - 11s 157ms/step - loss: 1.6602 - accuracy: 0.4317 - val_loss: 1.6325 - val_accuracy: 0.2500\n",
      "Epoch 4/50\n",
      "68/68 [==============================] - 11s 155ms/step - loss: 1.2982 - accuracy: 0.5406 - val_loss: 1.6409 - val_accuracy: 0.3750\n",
      "Epoch 5/50\n",
      "68/68 [==============================] - 11s 157ms/step - loss: 1.1563 - accuracy: 0.5821 - val_loss: 1.0755 - val_accuracy: 0.6250\n",
      "Epoch 6/50\n",
      "68/68 [==============================] - 10s 154ms/step - loss: 0.9613 - accuracy: 0.6691 - val_loss: 1.2681 - val_accuracy: 0.6250\n",
      "Epoch 7/50\n",
      "68/68 [==============================] - 10s 154ms/step - loss: 0.7845 - accuracy: 0.7037 - val_loss: 1.0344 - val_accuracy: 0.6250\n",
      "Epoch 8/50\n",
      "68/68 [==============================] - 10s 146ms/step - loss: 0.7216 - accuracy: 0.7472 - val_loss: 0.7248 - val_accuracy: 0.6875\n",
      "Epoch 9/50\n",
      "68/68 [==============================] - 11s 157ms/step - loss: 0.6464 - accuracy: 0.7638 - val_loss: 0.8092 - val_accuracy: 0.6250\n",
      "Epoch 10/50\n",
      "68/68 [==============================] - 11s 157ms/step - loss: 0.5169 - accuracy: 0.8044 - val_loss: 0.5666 - val_accuracy: 0.7500\n",
      "Epoch 11/50\n",
      "68/68 [==============================] - 11s 155ms/step - loss: 0.4903 - accuracy: 0.8238 - val_loss: 0.4464 - val_accuracy: 0.8125\n",
      "Epoch 12/50\n",
      "68/68 [==============================] - 11s 160ms/step - loss: 0.4474 - accuracy: 0.8109 - val_loss: 0.7566 - val_accuracy: 0.6875\n",
      "Epoch 13/50\n",
      "68/68 [==============================] - 11s 159ms/step - loss: 0.3753 - accuracy: 0.8699 - val_loss: 0.4367 - val_accuracy: 0.8750\n",
      "Epoch 14/50\n",
      "68/68 [==============================] - 11s 157ms/step - loss: 0.4241 - accuracy: 0.8404 - val_loss: 0.3853 - val_accuracy: 0.8750\n",
      "Epoch 15/50\n",
      "68/68 [==============================] - 11s 161ms/step - loss: 0.4027 - accuracy: 0.8649 - val_loss: 0.5999 - val_accuracy: 0.7500\n",
      "Epoch 16/50\n",
      "68/68 [==============================] - 11s 160ms/step - loss: 0.3514 - accuracy: 0.8769 - val_loss: 0.3776 - val_accuracy: 0.8125\n",
      "Epoch 17/50\n",
      "68/68 [==============================] - 11s 154ms/step - loss: 0.2909 - accuracy: 0.9062 - val_loss: 0.5810 - val_accuracy: 0.7500\n",
      "Epoch 18/50\n",
      "68/68 [==============================] - 11s 156ms/step - loss: 0.2709 - accuracy: 0.9065 - val_loss: 0.5302 - val_accuracy: 0.7500\n",
      "Epoch 19/50\n",
      "68/68 [==============================] - 10s 153ms/step - loss: 0.2560 - accuracy: 0.9105 - val_loss: 0.3452 - val_accuracy: 0.8125\n",
      "Epoch 20/50\n",
      "68/68 [==============================] - 10s 154ms/step - loss: 0.2232 - accuracy: 0.9182 - val_loss: 0.6641 - val_accuracy: 0.8125\n",
      "Epoch 21/50\n",
      "68/68 [==============================] - 11s 158ms/step - loss: 0.2360 - accuracy: 0.9130 - val_loss: 0.4564 - val_accuracy: 0.8125\n",
      "Epoch 22/50\n",
      "68/68 [==============================] - 11s 157ms/step - loss: 0.2022 - accuracy: 0.9246 - val_loss: 0.2505 - val_accuracy: 0.8750\n",
      "Epoch 23/50\n",
      "68/68 [==============================] - 11s 157ms/step - loss: 0.2130 - accuracy: 0.9204 - val_loss: 0.2956 - val_accuracy: 0.8750\n",
      "Epoch 24/50\n",
      "68/68 [==============================] - 11s 164ms/step - loss: 0.1742 - accuracy: 0.9400 - val_loss: 0.5413 - val_accuracy: 0.8125\n",
      "Epoch 25/50\n",
      "68/68 [==============================] - 11s 159ms/step - loss: 0.1908 - accuracy: 0.9338 - val_loss: 0.2050 - val_accuracy: 0.9375\n",
      "Epoch 26/50\n",
      "68/68 [==============================] - 11s 161ms/step - loss: 0.1545 - accuracy: 0.9465 - val_loss: 0.3664 - val_accuracy: 0.8750\n",
      "Epoch 27/50\n",
      "68/68 [==============================] - 11s 156ms/step - loss: 0.1768 - accuracy: 0.9400 - val_loss: 0.2615 - val_accuracy: 0.8750\n",
      "Epoch 28/50\n",
      "68/68 [==============================] - 10s 154ms/step - loss: 0.1533 - accuracy: 0.9493 - val_loss: 0.2115 - val_accuracy: 0.8750\n",
      "Epoch 29/50\n",
      "68/68 [==============================] - 11s 157ms/step - loss: 0.1457 - accuracy: 0.9593 - val_loss: 0.1401 - val_accuracy: 0.9375\n",
      "Epoch 30/50\n",
      "68/68 [==============================] - 11s 159ms/step - loss: 0.1031 - accuracy: 0.9605 - val_loss: 0.2157 - val_accuracy: 0.9375\n",
      "Epoch 31/50\n",
      "68/68 [==============================] - 11s 160ms/step - loss: 0.1541 - accuracy: 0.9483 - val_loss: 1.1078 - val_accuracy: 0.8750\n",
      "Epoch 32/50\n",
      "68/68 [==============================] - 10s 152ms/step - loss: 0.0965 - accuracy: 0.9667 - val_loss: 0.6385 - val_accuracy: 0.8750\n",
      "Epoch 33/50\n",
      "68/68 [==============================] - 10s 154ms/step - loss: 0.1282 - accuracy: 0.9669 - val_loss: 1.2209 - val_accuracy: 0.8750\n",
      "Epoch 34/50\n",
      "68/68 [==============================] - 11s 162ms/step - loss: 0.1246 - accuracy: 0.9557 - val_loss: 0.5388 - val_accuracy: 0.8750\n",
      "Epoch 35/50\n",
      "68/68 [==============================] - 10s 152ms/step - loss: 0.1741 - accuracy: 0.9500 - val_loss: 0.5895 - val_accuracy: 0.9375\n",
      "Epoch 36/50\n",
      "68/68 [==============================] - 11s 156ms/step - loss: 0.0886 - accuracy: 0.9688 - val_loss: 0.1672 - val_accuracy: 0.9375\n",
      "Epoch 37/50\n",
      "68/68 [==============================] - 10s 153ms/step - loss: 0.1421 - accuracy: 0.9557 - val_loss: 0.4307 - val_accuracy: 0.9375\n",
      "Epoch 38/50\n",
      "68/68 [==============================] - 11s 158ms/step - loss: 0.1004 - accuracy: 0.9685 - val_loss: 0.4742 - val_accuracy: 0.8750\n",
      "Epoch 39/50\n",
      "68/68 [==============================] - 11s 160ms/step - loss: 0.0997 - accuracy: 0.9659 - val_loss: 0.4761 - val_accuracy: 0.9375\n",
      "Epoch 40/50\n",
      "68/68 [==============================] - 11s 155ms/step - loss: 0.1032 - accuracy: 0.9678 - val_loss: 0.3221 - val_accuracy: 0.9375\n",
      "Epoch 41/50\n",
      "68/68 [==============================] - 11s 163ms/step - loss: 0.0605 - accuracy: 0.9760 - val_loss: 0.6770 - val_accuracy: 0.8125\n",
      "Epoch 42/50\n",
      "68/68 [==============================] - 10s 153ms/step - loss: 0.0956 - accuracy: 0.9731 - val_loss: 0.4287 - val_accuracy: 0.9375\n",
      "Epoch 43/50\n",
      "68/68 [==============================] - 10s 151ms/step - loss: 0.0673 - accuracy: 0.9825 - val_loss: 0.6961 - val_accuracy: 0.7500\n",
      "Epoch 44/50\n",
      "68/68 [==============================] - 10s 152ms/step - loss: 0.1198 - accuracy: 0.9686 - val_loss: 0.1948 - val_accuracy: 0.8750\n",
      "Epoch 45/50\n",
      "68/68 [==============================] - 11s 157ms/step - loss: 0.0681 - accuracy: 0.9769 - val_loss: 0.3477 - val_accuracy: 0.8125\n",
      "Epoch 46/50\n",
      "68/68 [==============================] - 10s 151ms/step - loss: 0.0756 - accuracy: 0.9743 - val_loss: 0.9507 - val_accuracy: 0.8750\n",
      "Epoch 47/50\n",
      "68/68 [==============================] - 10s 153ms/step - loss: 0.1424 - accuracy: 0.9483 - val_loss: 0.7544 - val_accuracy: 0.8750\n",
      "Epoch 48/50\n",
      "68/68 [==============================] - 11s 155ms/step - loss: 0.0433 - accuracy: 0.9852 - val_loss: 0.2282 - val_accuracy: 0.9375\n",
      "Epoch 49/50\n",
      "68/68 [==============================] - 11s 161ms/step - loss: 0.0683 - accuracy: 0.9750 - val_loss: 0.5953 - val_accuracy: 0.8750\n",
      "Epoch 50/50\n",
      "68/68 [==============================] - 11s 157ms/step - loss: 0.0976 - accuracy: 0.9715 - val_loss: 0.1360 - val_accuracy: 0.9375\n"
     ]
    }
   ],
   "source": [
    "epochs = 50\n",
    "history = model.fit_generator(train_generator,\n",
    "                              steps_per_epoch = train_num // batch_size,\n",
    "                              epochs = epochs,\n",
    "                              validation_data = valid_generator,\n",
    "                              validation_steps = valid_num // batch_size)"
   ]
  },
  {
   "cell_type": "code",
   "execution_count": 18,
   "metadata": {},
   "outputs": [
    {
     "data": {
      "image/png": "[encoded data removed]",
      "text/plain": [
       "<matplotlib.figure.Figure at 0x7efb883c8c50>"
      ]
     },
     "metadata": {},
     "output_type": "display_data"
    },
    {
     "data": {
      "image/png": "[encoded data removed]",
      "text/plain": [
       "<matplotlib.figure.Figure at 0x7efb606cc9e8>"
      ]
     },
     "metadata": {},
     "output_type": "display_data"
    }
   ],
   "source": [
    "def plot_learning_curves(history, label, epcohs, min_value, max_value):\n",
    "    data = {}\n",
    "    data[label] = history.history[label]\n",
    "    data['val_'+label] = history.history['val_'+label]\n",
    "    pd.DataFrame(data).plot(figsize=(8, 5))\n",
    "    plt.grid(True)\n",
    "    plt.axis([0, epochs, min_value, max_value])\n",
    "    plt.show()\n",
    "    \n",
    "plot_learning_curves(history, 'accuracy', epochs, 0, 1)\n",
    "plot_learning_curves(history, 'loss', epochs, 0, 2)"
   ]
  },
  {
   "cell_type": "code",
   "execution_count": 19,
   "metadata": {},
   "outputs": [
    {
     "name": "stdout",
     "output_type": "stream",
     "text": [
      "Found 21 images belonging to 20 classes.\n"
     ]
    },
    {
     "data": {
      "text/plain": [
       "['万宝路/008.jpg',\n",
       " '中南海5mg/0018.jpg',\n",
       " '中南海8mg/001.jpg',\n",
       " '新版利群/004.jpg',\n",
       " '泰山红将军/003.jpg',\n",
       " '玉溪软/006.jpg',\n",
       " '白沙硬/002.jpg',\n",
       " '白沙精品二代/009.jpg',\n",
       " '苏烟五星/005.jpg',\n",
       " '黄山新制皖烟/012.jpg',\n",
       " '阿诗玛/0304142236.jpg',\n",
       " '好好学习/0304142232.jpg',\n",
       " '黄金叶小目标/0304142227.jpg',\n",
       " '利群软红/0304142312.jpg',\n",
       " '利群阳光/0304142308.jpg',\n",
       " '苏烟金砂/0304142241.jpg',\n",
       " '中华/0304142249.jpg',\n",
       " '中华/0304142253.jpg',\n",
       " '泰山大鸡/0304142214.jpg',\n",
       " '泰山金将军/0304142258.jpg',\n",
       " '玉溪初心/0304142214.jpg']"
      ]
     },
     "execution_count": 19,
     "metadata": {},
     "output_type": "execute_result"
    }
   ],
   "source": [
    "test_datagen = keras.preprocessing.image.ImageDataGenerator(\n",
    "    rescale = 1./255)\n",
    "test_generator = test_datagen.flow_from_directory(\n",
    "    directory = '/opt/tv/validation/validation',\n",
    "    classes = dir1,\n",
    "    target_size = (height, width),\n",
    "    batch_size = batch_size,\n",
    "    seed = 7,\n",
    "    shuffle = False,\n",
    "    class_mode = \"categorical\")\n",
    "labels = test_generator.class_indices\n",
    "labels\n",
    "filenames = test_generator.filenames\n",
    "filenames"
   ]
  },
  {
   "cell_type": "code",
   "execution_count": 20,
   "metadata": {},
   "outputs": [],
   "source": [
    "test_predict = model.predict_generator(test_generator,\n",
    "                                       workers = 10,\n",
    "                                       use_multiprocessing = True)"
   ]
  },
  {
   "cell_type": "code",
   "execution_count": 21,
   "metadata": {},
   "outputs": [
    {
     "name": "stdout",
     "output_type": "stream",
     "text": [
      "万宝路/008.jpg万宝路\n",
      "中南海5mg/0018.jpg中南海5mg\n",
      "中南海8mg/001.jpg中南海8mg\n",
      "新版利群/004.jpg新版利群\n",
      "泰山红将军/003.jpg泰山红将军\n",
      "玉溪软/006.jpg玉溪软\n",
      "白沙硬/002.jpg白沙硬\n",
      "白沙精品二代/009.jpg白沙精品二代\n",
      "苏烟五星/005.jpg苏烟五星\n",
      "黄山新制皖烟/012.jpg黄山新制皖烟\n",
      "阿诗玛/0304142236.jpg阿诗玛\n",
      "好好学习/0304142232.jpg好好学习\n",
      "黄金叶小目标/0304142227.jpg黄金叶小目标\n",
      "利群软红/0304142312.jpg利群软红\n",
      "利群阳光/0304142308.jpg利群阳光\n",
      "苏烟金砂/0304142241.jpg黄山新制皖烟\n",
      "中华/0304142249.jpg中华\n",
      "中华/0304142253.jpg中华\n",
      "泰山大鸡/0304142214.jpg玉溪初心\n",
      "泰山金将军/0304142258.jpg泰山金将军\n",
      "玉溪初心/0304142214.jpg玉溪初心\n"
     ]
    }
   ],
   "source": [
    "labels = train_generator.class_indices\n",
    "labels1 = dict(zip(labels.values(),labels.keys()))\n",
    "for i in range(len(test_predict)):\n",
    "    pre = np.argmax(test_predict[i])\n",
    "    print(filenames[i] + labels1[pre])"
   ]
  },
  {
   "cell_type": "code",
   "execution_count": null,
   "metadata": {},
   "outputs": [],
   "source": [
    "img = image.load_img(\"/opt/tv/validation/validation/苏烟金砂/0304095219.jpg\", target_size = (128, 128))\n",
    "plt.imshow(img)"
   ]
  },
  {
   "cell_type": "code",
   "execution_count": null,
   "metadata": {},
   "outputs": [],
   "source": [
    "img = image.img_to_array(img)\n",
    "img = np.expand_dims(img, axis=0)\n",
    "preds = model.predict(img)\n",
    "i = np.argmax(preds)\n",
    "labels1[i]"
   ]
  },
  {
   "cell_type": "code",
   "execution_count": null,
   "metadata": {},
   "outputs": [],
   "source": [
    "num_rows = 15\n",
    "num_cols = 3\n",
    "num_images = 45\n",
    "plt.figure(figsize=(2*2*num_cols, 2*num_rows))\n",
    "for i in range(num_images):    \n",
    "    x, y = train_generator.next()\n",
    "    temp_img = image.array_to_img(x[0])\n",
    "    plt.subplot(num_rows, 2*num_cols, 2*i+1)\n",
    "    plt.imshow(temp_img)\n",
    "plt.show()"
   ]
  },
  {
   "cell_type": "code",
   "execution_count": null,
   "metadata": {},
   "outputs": [],
   "source": []
  }
 ],
 "metadata": {
  "kernelspec": {
   "display_name": "Python 3",
   "language": "python",
   "name": "python3"
  },
  "language_info": {
   "codemirror_mode": {
    "name": "ipython",
    "version": 3
   },
   "file_extension": ".py",
   "mimetype": "text/x-python",
   "name": "python",
   "nbconvert_exporter": "python",
   "pygments_lexer": "ipython3",
   "version": "3.6.4"
  }
 },
 "nbformat": 4,
 "nbformat_minor": 1
}
