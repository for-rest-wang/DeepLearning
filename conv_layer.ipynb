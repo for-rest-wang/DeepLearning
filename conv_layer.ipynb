{
 "cells": [
  {
   "cell_type": "code",
   "execution_count": 151,
   "metadata": {},
   "outputs": [
    {
     "name": "stdout",
     "output_type": "stream",
     "text": [
      "2.1.0\n"
     ]
    }
   ],
   "source": [
    "%matplotlib inline\n",
    "import matplotlib as mpl\n",
    "import matplotlib.pyplot as plt\n",
    "import numpy as np\n",
    "import os\n",
    "import pandas as pd\n",
    "import sklearn\n",
    "import sys\n",
    "import tensorflow as tf\n",
    "import time\n",
    "from PIL import Image\n",
    "\n",
    "from tensorflow import keras\n",
    "from tensorflow.keras.preprocessing import image\n",
    "print(tf.__version__)"
   ]
  },
  {
   "cell_type": "markdown",
   "metadata": {},
   "source": [
    "## tf.nn.conv2d"
   ]
  },
  {
   "cell_type": "code",
   "execution_count": 299,
   "metadata": {},
   "outputs": [
    {
     "data": {
      "text/plain": [
       "array([[[  9.],\n",
       "        [  7.],\n",
       "        [  9.],\n",
       "        ...,\n",
       "        [ 36.],\n",
       "        [ 50.],\n",
       "        [ 57.]],\n",
       "\n",
       "       [[  8.],\n",
       "        [  6.],\n",
       "        [  8.],\n",
       "        ...,\n",
       "        [ 53.],\n",
       "        [ 65.],\n",
       "        [ 57.]],\n",
       "\n",
       "       [[ 18.],\n",
       "        [ 14.],\n",
       "        [ 15.],\n",
       "        ...,\n",
       "        [ 59.],\n",
       "        [ 64.],\n",
       "        [ 58.]],\n",
       "\n",
       "       ...,\n",
       "\n",
       "       [[105.],\n",
       "        [ 89.],\n",
       "        [195.],\n",
       "        ...,\n",
       "        [207.],\n",
       "        [132.],\n",
       "        [ 99.]],\n",
       "\n",
       "       [[ 88.],\n",
       "        [123.],\n",
       "        [204.],\n",
       "        ...,\n",
       "        [213.],\n",
       "        [201.],\n",
       "        [115.]],\n",
       "\n",
       "       [[187.],\n",
       "        [185.],\n",
       "        [204.],\n",
       "        ...,\n",
       "        [208.],\n",
       "        [203.],\n",
       "        [213.]]], dtype=float32)"
      ]
     },
     "execution_count": 299,
     "metadata": {},
     "output_type": "execute_result"
    }
   ],
   "source": [
    "img = image.load_img(\"D:/image/yx.jpg\")\n",
    "r, g, b = img.split()\n",
    "im = image.img_to_array(b)\n",
    "im"
   ]
  },
  {
   "cell_type": "code",
   "execution_count": 300,
   "metadata": {},
   "outputs": [],
   "source": [
    "input   = tf.constant([im],shape=[1,100,100,1])"
   ]
  },
  {
   "cell_type": "code",
   "execution_count": 301,
   "metadata": {},
   "outputs": [],
   "source": [
    "kernel = tf.constant([\n",
    "        [\n",
    "            [1.0],  [2.0], [1.0],\n",
    "            [0.0],  [0.0], [0.0],\n",
    "            [-1.0], [-2.0],[-1.0]\n",
    "\n",
    "        ]\n",
    "    ],shape=[3,3,1,1])\n",
    "conv2d = tf.nn.conv2d(input, kernel, strides=[1, 1, 1, 1], padding='SAME')"
   ]
  },
  {
   "cell_type": "code",
   "execution_count": 302,
   "metadata": {},
   "outputs": [
    {
     "data": {
      "text/plain": [
       "array([[[[ -22.],\n",
       "         [ -28.],\n",
       "         [ -31.],\n",
       "         ...,\n",
       "         [-210.],\n",
       "         [-240.],\n",
       "         [-179.]],\n",
       "\n",
       "        [[ -25.],\n",
       "         [ -29.],\n",
       "         [ -25.],\n",
       "         ...,\n",
       "         [ -79.],\n",
       "         [ -52.],\n",
       "         [ -16.]],\n",
       "\n",
       "        [[ -21.],\n",
       "         [ -21.],\n",
       "         [ -15.],\n",
       "         ...,\n",
       "         [ -57.],\n",
       "         [ -22.],\n",
       "         [  -8.]],\n",
       "\n",
       "        ...,\n",
       "\n",
       "        [[  28.],\n",
       "         [  25.],\n",
       "         [  70.],\n",
       "         ...,\n",
       "         [ -62.],\n",
       "         [ -89.],\n",
       "         [ -78.]],\n",
       "\n",
       "        [[-260.],\n",
       "         [-283.],\n",
       "         [-202.],\n",
       "         ...,\n",
       "         [-162.],\n",
       "         [-257.],\n",
       "         [-299.]],\n",
       "\n",
       "        [[ 299.],\n",
       "         [ 538.],\n",
       "         [ 627.],\n",
       "         ...,\n",
       "         [ 813.],\n",
       "         [ 730.],\n",
       "         [ 431.]]]], dtype=float32)"
      ]
     },
     "execution_count": 302,
     "metadata": {},
     "output_type": "execute_result"
    }
   ],
   "source": [
    "np1 = conv2d.numpy()\n",
    "np1"
   ]
  },
  {
   "cell_type": "code",
   "execution_count": 129,
   "metadata": {},
   "outputs": [
    {
     "data": {
      "text/plain": [
       "(100, 100)"
      ]
     },
     "execution_count": 129,
     "metadata": {},
     "output_type": "execute_result"
    }
   ],
   "source": [
    "np2 = np1[0,:,:,0]\n",
    "np2.shape"
   ]
  },
  {
   "cell_type": "code",
   "execution_count": 130,
   "metadata": {},
   "outputs": [
    {
     "data": {
      "text/plain": [
       "<matplotlib.image.AxesImage at 0x126c752ee10>"
      ]
     },
     "execution_count": 130,
     "metadata": {},
     "output_type": "execute_result"
    },
    {
     "data": {
      "image/png": "[encoded data removed]",
      "text/plain": [
       "<Figure size 432x288 with 1 Axes>"
      ]
     },
     "metadata": {
      "needs_background": "light"
     },
     "output_type": "display_data"
    }
   ],
   "source": [
    "plt.imshow(r, cmap='Greys')"
   ]
  },
  {
   "cell_type": "code",
   "execution_count": 131,
   "metadata": {},
   "outputs": [
    {
     "data": {
      "text/plain": [
       "<matplotlib.image.AxesImage at 0x126c75826a0>"
      ]
     },
     "execution_count": 131,
     "metadata": {},
     "output_type": "execute_result"
    },
    {
     "data": {
      "image/png": "[encoded data removed]",
      "text/plain": [
       "<Figure size 432x288 with 1 Axes>"
      ]
     },
     "metadata": {
      "needs_background": "light"
     },
     "output_type": "display_data"
    }
   ],
   "source": [
    "plt.imshow(np2, cmap='Greys')"
   ]
  },
  {
   "cell_type": "code",
   "execution_count": 40,
   "metadata": {},
   "outputs": [
    {
     "data": {
      "text/plain": [
       "<matplotlib.image.AxesImage at 0x2056720df60>"
      ]
     },
     "execution_count": 40,
     "metadata": {},
     "output_type": "execute_result"
    },
    {
     "data": {
      "image/png": "[encoded data removed]",
      "text/plain": [
       "<Figure size 432x288 with 1 Axes>"
      ]
     },
     "metadata": {
      "needs_background": "light"
     },
     "output_type": "display_data"
    }
   ],
   "source": [
    "conv2d1 = tf.nn.conv2d(conv2d, kernel, strides=[1, 1, 1, 1], padding='SAME')\n",
    "conv2d2 = tf.nn.conv2d(conv2d1, kernel, strides=[1, 1, 1, 1], padding='SAME')\n",
    "conv2d3 = tf.nn.conv2d(conv2d2, kernel, strides=[1, 1, 1, 1], padding='SAME')\n",
    "l4 = conv2d3.numpy()[0,:,:,0]\n",
    "plt.imshow(l4, cmap='Greys')"
   ]
  },
  {
   "cell_type": "markdown",
   "metadata": {},
   "source": [
    "## tf.keras.layers.Conv2D"
   ]
  },
  {
   "cell_type": "code",
   "execution_count": 170,
   "metadata": {},
   "outputs": [
    {
     "data": {
      "text/plain": [
       "(1, 100, 100, 3)"
      ]
     },
     "execution_count": 170,
     "metadata": {},
     "output_type": "execute_result"
    }
   ],
   "source": [
    "img = image.load_img(\"D:/image/yx.jpg\")\n",
    "im = image.img_to_array(img)\n",
    "im = np.expand_dims(im, axis=0)\n",
    "im.shape"
   ]
  },
  {
   "cell_type": "code",
   "execution_count": 171,
   "metadata": {},
   "outputs": [],
   "source": [
    "conv = tf.keras.layers.Conv2D(filters=3,kernel_size=3,strides=(1,1),padding='same')\n",
    "output = conv(im)"
   ]
  },
  {
   "cell_type": "code",
   "execution_count": 121,
   "metadata": {},
   "outputs": [
    {
     "data": {
      "text/plain": [
       "(array([0, 0, 0, ..., 0, 0, 0], dtype=int64),\n",
       " array([ 0,  0,  0, ..., 99, 99, 99], dtype=int64),\n",
       " array([ 0,  0,  0, ..., 99, 99, 99], dtype=int64),\n",
       " array([0, 1, 2, ..., 0, 1, 2], dtype=int64))"
      ]
     },
     "execution_count": 121,
     "metadata": {},
     "output_type": "execute_result"
    }
   ],
   "source": [
    "output"
   ]
  },
  {
   "cell_type": "code",
   "execution_count": 119,
   "metadata": {},
   "outputs": [
    {
     "data": {
      "text/plain": [
       "<matplotlib.image.AxesImage at 0x126c5aed9b0>"
      ]
     },
     "execution_count": 119,
     "metadata": {},
     "output_type": "execute_result"
    },
    {
     "data": {
      "image/png": "[encoded data removed]",
      "text/plain": [
       "<Figure size 432x288 with 1 Axes>"
      ]
     },
     "metadata": {
      "needs_background": "light"
     },
     "output_type": "display_data"
    }
   ],
   "source": [
    "plt.imshow(output[0,:,:,0])"
   ]
  },
  {
   "cell_type": "markdown",
   "metadata": {},
   "source": [
    "tf.nn.conv2d"
   ]
  },
  {
   "cell_type": "code",
   "execution_count": 42,
   "metadata": {},
   "outputs": [
    {
     "data": {
      "text/plain": [
       "array([[-13., -20., -17.],\n",
       "       [-18., -24., -18.],\n",
       "       [ 13.,  20.,  17.]], dtype=float32)"
      ]
     },
     "execution_count": 42,
     "metadata": {},
     "output_type": "execute_result"
    }
   ],
   "source": [
    "sample   = tf.constant([\n",
    "        [  \n",
    "            [[1.0], [2.0], [3.0]],\n",
    "            [[4.0], [5.0], [6.0]],\n",
    "            [[7.0], [8.0], [9.0]]\n",
    "        ]\n",
    "    ],shape=[1,3,3,1])\n",
    "value = tf.nn.conv2d(sample, kernel, strides=[1, 1, 1, 1], padding='SAME')\n",
    "value.numpy()[0,:,:,0]"
   ]
  },
  {
   "cell_type": "code",
   "execution_count": 132,
   "metadata": {},
   "outputs": [
    {
     "data": {
      "text/plain": [
       "array([[-40., -48.,  40.],\n",
       "       [-60., -72.,  60.],\n",
       "       [-40., -48.,  40.]], dtype=float32)"
      ]
     },
     "execution_count": 132,
     "metadata": {},
     "output_type": "execute_result"
    }
   ],
   "source": [
    "sample   = tf.constant([\n",
    "        [  \n",
    "            [[1.0], [2.0], [3.0]],\n",
    "            [[4.0], [5.0], [6.0]],\n",
    "            [[7.0], [8.0], [9.0]]\n",
    "        ],\n",
    "    [  \n",
    "            [[1.0], [2.0], [3.0]],\n",
    "            [[4.0], [5.0], [6.0]],\n",
    "            [[7.0], [8.0], [9.0]]\n",
    "        ],\n",
    "    [  \n",
    "            [[1.0], [2.0], [3.0]],\n",
    "            [[4.0], [5.0], [6.0]],\n",
    "            [[7.0], [8.0], [9.0]]\n",
    "        ]\n",
    "    ],shape=[1,3,3,3])\n",
    "value = tf.nn.conv2d(sample, kernel, strides=[1, 1, 1, 1], padding='SAME')\n",
    "value.numpy()[0,:,:,0]"
   ]
  },
  {
   "cell_type": "code",
   "execution_count": 141,
   "metadata": {},
   "outputs": [
    {
     "data": {
      "text/plain": [
       "(3, 3, 3, 1)"
      ]
     },
     "execution_count": 141,
     "metadata": {},
     "output_type": "execute_result"
    }
   ],
   "source": [
    "kernel.numpy().shape"
   ]
  },
  {
   "cell_type": "code",
   "execution_count": 139,
   "metadata": {},
   "outputs": [
    {
     "data": {
      "text/plain": [
       "(3, 3, 3, 1)"
      ]
     },
     "execution_count": 139,
     "metadata": {},
     "output_type": "execute_result"
    }
   ],
   "source": [
    "k = tf.constant([\n",
    "        [\n",
    "            [1.0],  [2.0], [1.0],\n",
    "            [0.0],  [0.0], [0.0],\n",
    "            [-1.0], [-2.0],[-1.0]\n",
    "\n",
    "        ],\n",
    "    [\n",
    "            [1.0],  [2.0], [1.0],\n",
    "            [0.0],  [0.0], [0.0],\n",
    "            [-1.0], [-2.0],[-1.0]\n",
    "\n",
    "        ],\n",
    "    [\n",
    "            [1.0],  [2.0], [1.0],\n",
    "            [0.0],  [0.0], [0.0],\n",
    "            [-1.0], [-2.0],[-1.0]\n",
    "\n",
    "        ]\n",
    "    ],shape=[3,3,3])\n",
    "k1 = tf.expand_dims(k, axis=3)\n",
    "k1.numpy().shape"
   ]
  },
  {
   "cell_type": "markdown",
   "metadata": {},
   "source": [
    "## tf.keras.layers.Conv2D"
   ]
  },
  {
   "cell_type": "markdown",
   "metadata": {},
   "source": [
    "### 非定义权重"
   ]
  },
  {
   "cell_type": "code",
   "execution_count": 70,
   "metadata": {},
   "outputs": [
    {
     "data": {
      "text/plain": [
       "array([[[[ 0.9140318 ],\n",
       "         [ 1.0805904 ],\n",
       "         [-0.98877215]],\n",
       "\n",
       "        [[ 0.39754844],\n",
       "         [ 0.6345083 ],\n",
       "         [-1.8166602 ]],\n",
       "\n",
       "        [[-1.1482286 ],\n",
       "         [-1.0278435 ],\n",
       "         [-3.404425  ]]]], dtype=float32)"
      ]
     },
     "execution_count": 70,
     "metadata": {},
     "output_type": "execute_result"
    }
   ],
   "source": [
    "sample   = tf.constant([\n",
    "        [  \n",
    "            [[1.0], [2.0], [3.0]],\n",
    "            [[4.0], [5.0], [6.0]],\n",
    "            [[7.0], [8.0], [9.0]]\n",
    "        ]\n",
    "    ],shape=[1,3,3,1])\n",
    "value = tf.keras.layers.Conv2D(filters=1,kernel_size=3,strides=(1,1),padding='same')(sample)\n",
    "value.numpy()"
   ]
  },
  {
   "cell_type": "markdown",
   "metadata": {},
   "source": [
    "###  自定义权重"
   ]
  },
  {
   "cell_type": "code",
   "execution_count": 203,
   "metadata": {},
   "outputs": [],
   "source": [
    "from keras import backend as K\n",
    "def kernel_init(shape, dtype=None):\n",
    "    b = K.constant([[1.0],  [2.0], [1.0],\n",
    "            [0.0],  [0.0], [0.0],\n",
    "            [-1.0], [-2.0],[-1.0]],shape=[3,3,1,1])\n",
    "    return b"
   ]
  },
  {
   "cell_type": "code",
   "execution_count": 204,
   "metadata": {},
   "outputs": [
    {
     "data": {
      "text/plain": [
       "array([[[[-13.],\n",
       "         [-20.],\n",
       "         [-17.]],\n",
       "\n",
       "        [[-18.],\n",
       "         [-24.],\n",
       "         [-18.]],\n",
       "\n",
       "        [[ 13.],\n",
       "         [ 20.],\n",
       "         [ 17.]]]], dtype=float32)"
      ]
     },
     "execution_count": 204,
     "metadata": {},
     "output_type": "execute_result"
    }
   ],
   "source": [
    "sample   = tf.constant([\n",
    "        [  \n",
    "            [[1.0], [2.0], [3.0]],\n",
    "            [[4.0], [5.0], [6.0]],\n",
    "            [[7.0], [8.0], [9.0]]\n",
    "        ]\n",
    "    ],shape=[1,3,3,1])\n",
    "value = tf.keras.layers.Conv2D(filters=1,kernel_size=3,strides=(1,1),padding='same',kernel_initializer=kernel_init)(sample)\n",
    "value.numpy()"
   ]
  },
  {
   "cell_type": "markdown",
   "metadata": {},
   "source": [
    "### 卷积后计算"
   ]
  },
  {
   "cell_type": "code",
   "execution_count": 303,
   "metadata": {},
   "outputs": [
    {
     "data": {
      "text/plain": [
       "array([[[164.,  15.,   9.],\n",
       "        [165.,  12.,   7.],\n",
       "        [169.,   9.,   9.],\n",
       "        ...,\n",
       "        [175.,  28.,  36.],\n",
       "        [188.,  43.,  50.],\n",
       "        [195.,  50.,  57.]],\n",
       "\n",
       "       [[163.,  14.,   8.],\n",
       "        [163.,  11.,   6.],\n",
       "        [168.,   8.,   8.],\n",
       "        ...,\n",
       "        [191.,  46.,  53.],\n",
       "        [200.,  56.,  65.],\n",
       "        [194.,  51.,  57.]],\n",
       "\n",
       "       [[170.,  22.,  18.],\n",
       "        [169.,  17.,  14.],\n",
       "        [172.,  14.,  15.],\n",
       "        ...,\n",
       "        [192.,  51.,  59.],\n",
       "        [195.,  55.,  64.],\n",
       "        [190.,  51.,  58.]],\n",
       "\n",
       "       ...,\n",
       "\n",
       "       [[173., 113., 105.],\n",
       "        [155.,  98.,  89.],\n",
       "        [255., 203., 195.],\n",
       "        ...,\n",
       "        [254., 216., 207.],\n",
       "        [186., 144., 132.],\n",
       "        [156., 112.,  99.]],\n",
       "\n",
       "       [[157.,  99.,  88.],\n",
       "        [187., 133., 123.],\n",
       "        [255., 213., 204.],\n",
       "        ...,\n",
       "        [247., 223., 213.],\n",
       "        [240., 212., 201.],\n",
       "        [156., 126., 115.]],\n",
       "\n",
       "       [[255., 198., 187.],\n",
       "        [251., 197., 185.],\n",
       "        [255., 213., 204.],\n",
       "        ...,\n",
       "        [236., 218., 208.],\n",
       "        [232., 212., 203.],\n",
       "        [246., 224., 213.]]], dtype=float32)"
      ]
     },
     "execution_count": 303,
     "metadata": {},
     "output_type": "execute_result"
    }
   ],
   "source": [
    "img = image.load_img(\"D:/image/yx.jpg\") #yx0为加工过的图片，3个通道值相同\n",
    "r, g, b = img.split()\n",
    "im = image.img_to_array(img)\n",
    "im"
   ]
  },
  {
   "cell_type": "code",
   "execution_count": 304,
   "metadata": {},
   "outputs": [],
   "source": [
    "im = np.expand_dims(im, axis=0)"
   ]
  },
  {
   "cell_type": "code",
   "execution_count": 305,
   "metadata": {},
   "outputs": [],
   "source": [
    "from keras import backend as K\n",
    "\n",
    "def kernel_init(shape, dtype=None):\n",
    "    b = K.constant([[[ 1.,  1.,  1.],\n",
    "        [ 2.,  2.,  2.],\n",
    "        [ 1.,  1.,  1.]],\n",
    "\n",
    "       [[ 0.,  0.,  0.],\n",
    "        [ 0.,  0.,  0.],\n",
    "        [ 0.,  0.,  0.]],\n",
    "\n",
    "       [[-1., -1., -1.],\n",
    "        [-2., -2., -2.],\n",
    "        [-1., -1., -1.]]],shape=[3,3,3,1])\n",
    "    return b"
   ]
  },
  {
   "cell_type": "code",
   "execution_count": 306,
   "metadata": {},
   "outputs": [],
   "source": [
    "conv = tf.keras.layers.Conv2D(filters=1,kernel_size=3,strides=(1,1),padding='same',kernel_initializer=kernel_init)\n",
    "output = conv(im)"
   ]
  },
  {
   "cell_type": "code",
   "execution_count": 307,
   "metadata": {},
   "outputs": [
    {
     "data": {
      "text/plain": [
       "array([[ -550.,  -729.,  -737., ..., -1149., -1234.,  -925.],\n",
       "       [  -60.,   -68.,   -57., ...,  -210.,  -126.,   -27.],\n",
       "       [  -48.,   -42.,   -22., ...,  -121.,   -19.,    15.],\n",
       "       ...,\n",
       "       [   82.,    82.,   222., ...,  -147.,  -223.,  -195.],\n",
       "       [ -789.,  -850.,  -592., ...,  -403.,  -671.,  -817.],\n",
       "       [ 1131.,  1902.,  2153., ...,  2618.,  2386.,  1447.]],\n",
       "      dtype=float32)"
      ]
     },
     "execution_count": 307,
     "metadata": {},
     "output_type": "execute_result"
    }
   ],
   "source": [
    "output.numpy()[0,:,:,0]"
   ]
  },
  {
   "cell_type": "code",
   "execution_count": 308,
   "metadata": {},
   "outputs": [
    {
     "data": {
      "text/plain": [
       "<matplotlib.image.AxesImage at 0x126c8ae2da0>"
      ]
     },
     "execution_count": 308,
     "metadata": {},
     "output_type": "execute_result"
    },
    {
     "data": {
      "image/png": "[encoded data removed]",
      "text/plain": [
       "<Figure size 432x288 with 1 Axes>"
      ]
     },
     "metadata": {
      "needs_background": "light"
     },
     "output_type": "display_data"
    }
   ],
   "source": [
    "plt.imshow(output.numpy()[0,:,:,0], cmap='Greys')"
   ]
  },
  {
   "cell_type": "code",
   "execution_count": null,
   "metadata": {},
   "outputs": [],
   "source": []
  }
 ],
 "metadata": {
  "kernelspec": {
   "display_name": "Python 3",
   "language": "python",
   "name": "python3"
  },
  "language_info": {
   "codemirror_mode": {
    "name": "ipython",
    "version": 3
   },
   "file_extension": ".py",
   "mimetype": "text/x-python",
   "name": "python",
   "nbconvert_exporter": "python",
   "pygments_lexer": "ipython3",
   "version": "3.7.3"
  }
 },
 "nbformat": 4,
 "nbformat_minor": 2
}
