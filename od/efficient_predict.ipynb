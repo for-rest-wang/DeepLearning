{
 "cells": [
  {
   "cell_type": "code",
   "execution_count": 1,
   "metadata": {},
   "outputs": [],
   "source": [
    "import argparse\n",
    "from datetime import date\n",
    "import os\n",
    "import sys\n",
    "import cv2\n",
    "import json\n",
    "import numpy as np\n",
    "import time\n",
    "import tensorflow as tf\n",
    "\n",
    "from tensorflow import keras\n",
    "import tensorflow.keras.backend as K\n",
    "from tensorflow.keras.optimizers import Adam, SGD\n",
    "\n",
    "import matplotlib.pyplot as plt\n",
    "from model import efficientdet\n",
    "from utils import preprocess_image, postprocess_boxes\n",
    "from augmentor.color import VisualEffect\n",
    "from augmentor.misc import MiscEffect\n",
    "from losses import smooth_l1, focal, smooth_l1_quad\n",
    "from efficientnet import BASE_WEIGHTS_PATH, WEIGHTS_HASHES"
   ]
  },
  {
   "cell_type": "code",
   "execution_count": 2,
   "metadata": {},
   "outputs": [],
   "source": [
    "gpus = tf.config.experimental.list_physical_devices('GPU')\n",
    "tf.config.experimental.set_visible_devices(gpus[1], 'GPU')\n",
    "tf.config.experimental.set_memory_growth(device=gpus[1], enable=True)"
   ]
  },
  {
   "cell_type": "code",
   "execution_count": 3,
   "metadata": {},
   "outputs": [
    {
     "data": {
      "text/plain": [
       "<Figure size 1080x648 with 0 Axes>"
      ]
     },
     "execution_count": 3,
     "metadata": {},
     "output_type": "execute_result"
    },
    {
     "data": {
      "text/plain": [
       "<Figure size 1080x648 with 0 Axes>"
      ]
     },
     "metadata": {},
     "output_type": "display_data"
    }
   ],
   "source": [
    "phi = 5\n",
    "weighted_bifpn = False\n",
    "model_path = '/opt/mxl/Cigarette_Image_OD/checkpoints/2020-07-24/pascal_50_0.0528_0.0809.h5'\n",
    "image_sizes = (512, 640, 768, 896, 1024, 1280, 1408)\n",
    "image_size = image_sizes[phi]\n",
    "classes = ['pack']\n",
    "num_classes = len(classes)\n",
    "score_threshold = 0.9\n",
    "colors = [np.random.randint(255,0,0).tolist() for _ in range(num_classes)]\n",
    "_, model = efficientdet(phi=phi,\n",
    "                        weighted_bifpn=weighted_bifpn,\n",
    "                        num_classes=num_classes,\n",
    "                        score_threshold=score_threshold)\n",
    "model.load_weights(model_path, by_name=True)\n",
    "plt.figure(figsize=(15,9))    "
   ]
  },
  {
   "cell_type": "code",
   "execution_count": 4,
   "metadata": {},
   "outputs": [],
   "source": [
    "def inner_draw_boxes(image, boxes, scores, labels, colors, classes):\n",
    "    for b, l, s in zip(boxes, labels, scores):\n",
    "        class_id = int(l)\n",
    "        class_name = classes[class_id]\n",
    "    \n",
    "        xmin, ymin, xmax, ymax = list(map(int, b))\n",
    "        score = '{:.4f}'.format(s)\n",
    "        color = colors[class_id]\n",
    "        label = '-'.join([class_name, score])\n",
    "    \n",
    "        ret, baseline = cv2.getTextSize(label, cv2.FONT_HERSHEY_SIMPLEX, 0.5, 1)\n",
    "        cv2.rectangle(image, (xmin, ymin), (xmax, ymax), color, 5)\n",
    "        #cv2.rectangle(image, (xmin, ymax - ret[1] - baseline), (xmin + ret[0], ymax), color, -1)\n",
    "        #cv2.putText(image, label, (xmin, ymax - baseline), cv2.FONT_HERSHEY_SIMPLEX, 0.5, (0, 0, 0), 1)"
   ]
  },
  {
   "cell_type": "code",
   "execution_count": 5,
   "metadata": {},
   "outputs": [],
   "source": [
    "image_path = '/ai/data/test/'\n",
    "filenames= os.listdir(image_path)"
   ]
  },
  {
   "cell_type": "code",
   "execution_count": 6,
   "metadata": {},
   "outputs": [
    {
     "name": "stdout",
     "output_type": "stream",
     "text": [
      "1.jpg 预测时间 11.401500940322876\n",
      "2.jpg 预测时间 0.3147695064544678\n",
      "3.jpg 预测时间 0.3031799793243408\n",
      "4.jpg 预测时间 0.31380462646484375\n",
      "5.jpg 预测时间 0.3031017780303955\n",
      "6.jpg 预测时间 0.3144185543060303\n",
      "7.jpg 预测时间 0.3033182621002197\n",
      "8.jpg 预测时间 0.31372499465942383\n",
      "9.jpg 预测时间 0.3095848560333252\n",
      "10.jpg 预测时间 0.3202054500579834\n",
      "11.jpg 预测时间 0.31667399406433105\n"
     ]
    }
   ],
   "source": [
    "for filename in filenames:   \n",
    "    \n",
    "    image = cv2.imread(image_path + filename)\n",
    "    src_image = image.copy()\n",
    "    # BGR -> RGB\n",
    "    image = image[:, :, ::-1]\n",
    "    h, w = image.shape[:2]\n",
    "\n",
    "    image, scale = preprocess_image(image, image_size=image_size)\n",
    "    # run network\n",
    "    start = time.time()\n",
    "    boxes, scores, labels = model.predict_on_batch([np.expand_dims(image, axis=0)])\n",
    "    boxes, scores, labels = np.squeeze(boxes), np.squeeze(scores), np.squeeze(labels)\n",
    "    print(filename + ' 预测时间',time.time() - start)\n",
    "    boxes = postprocess_boxes(boxes=boxes, scale=scale, height=h, width=w)\n",
    "    # select indices which have a score above the threshold\n",
    "    indices = np.where(scores[:] > score_threshold)[0]\n",
    "\n",
    "    # select those detections\n",
    "    boxes = boxes[indices]\n",
    "    labels = labels[indices]\n",
    "\n",
    "    inner_draw_boxes(src_image, boxes, scores, labels, (255,0,0), classes)\n",
    "    \n",
    "    cv2.imwrite(filename, src_image)"
   ]
  },
  {
   "cell_type": "code",
   "execution_count": null,
   "metadata": {},
   "outputs": [],
   "source": []
  }
 ],
 "metadata": {
  "kernelspec": {
   "display_name": "Python 3",
   "language": "python",
   "name": "python3"
  },
  "language_info": {
   "codemirror_mode": {
    "name": "ipython",
    "version": 3
   },
   "file_extension": ".py",
   "mimetype": "text/x-python",
   "name": "python",
   "nbconvert_exporter": "python",
   "pygments_lexer": "ipython3",
   "version": "3.7.3"
  }
 },
 "nbformat": 4,
 "nbformat_minor": 4
}
