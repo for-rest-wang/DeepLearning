{
 "cells": [
  {
   "cell_type": "code",
   "execution_count": 1,
   "metadata": {},
   "outputs": [],
   "source": [
    "import pandas as pd\n",
    "import numpy as np\n",
    "import tensorflow as tf\n",
    "import cv2"
   ]
  },
  {
   "cell_type": "code",
   "execution_count": 2,
   "metadata": {},
   "outputs": [],
   "source": [
    "import imgaug as ia\n",
    "import imgaug.augmenters as iaa\n",
    "from imgaug.augmentables.bbs import BoundingBox, BoundingBoxesOnImage\n",
    "import matplotlib.pyplot as plt"
   ]
  },
  {
   "cell_type": "code",
   "execution_count": 7,
   "metadata": {},
   "outputs": [],
   "source": [
    "annotation_train_path = 'data/cig_train_labels.csv'\n",
    "image_path = 'data/cig/'\n",
    "output_path =  'data/output/'\n",
    "classes_of_interest = ['pick']"
   ]
  },
  {
   "cell_type": "code",
   "execution_count": 8,
   "metadata": {},
   "outputs": [],
   "source": [
    "dtype_dict = {'filename':np.str,\n",
    "             'width':np.float32,\n",
    "             'height':np.float32,\n",
    "             'class':np.str,\n",
    "             'xmin':np.float32,\n",
    "             'ymin':np.float32,\n",
    "             'xmax':np.float32,\n",
    "             'ymax':np.float32}"
   ]
  },
  {
   "cell_type": "code",
   "execution_count": 9,
   "metadata": {},
   "outputs": [],
   "source": [
    "image_data = pd.read_csv(annotation_train_path, header=0, dtype=dtype_dict)"
   ]
  },
  {
   "cell_type": "code",
   "execution_count": 10,
   "metadata": {},
   "outputs": [],
   "source": [
    "grouped = image_data.groupby('filename')"
   ]
  },
  {
   "cell_type": "code",
   "execution_count": 11,
   "metadata": {},
   "outputs": [],
   "source": [
    "\n",
    "\n",
    "for name,group in grouped:\n",
    "    image = cv2.imread(image_path + name)\n",
    "    img_y,img_x,c = image.shape\n",
    "    box_h = 400\n",
    "    box_w = 260\n",
    "    \n",
    "    b_bb = []\n",
    "    for index,bbox in group.iterrows():\n",
    "        bb = BoundingBox(x1=bbox['xmin'], y1=bbox['ymin'], x2=bbox['xmax'], y2=bbox['ymax'], label= bbox['class'])\n",
    "        b_bb.append(bb)\n",
    "        \n",
    "    rand_x = [i for i in range(0,img_x - box_h,int(img_x/40))]\n",
    "    rand_y = [i for i in range(0,img_y - box_w,int(img_y/40))]\n",
    "    index = 0\n",
    "    for i in rand_x:\n",
    "        for j in rand_y:\n",
    "            t = BoundingBox(x1=i, y1=j, x2=i+box_w, y2=j+box_h, label= 'backgroud')\n",
    "            iou0 = 0\n",
    "            for j,b in enumerate(b_bb):\n",
    "                t_iou = t.iou(b)\n",
    "                if(t_iou>iou0):\n",
    "                    iou0 = t_iou            \n",
    "            if(iou0<0.1):\n",
    "                index += 1\n",
    "                bird = t.extract_from_image(image)\n",
    "#                 cv2.imwrite(output_path + '0/' + name[:-4] + '_' + str(index) + '.jpg',bird)   #输出量大，谨慎执行 ！！！"
   ]
  },
  {
   "cell_type": "code",
   "execution_count": null,
   "metadata": {},
   "outputs": [],
   "source": []
  }
 ],
 "metadata": {
  "kernelspec": {
   "display_name": "Python 3",
   "language": "python",
   "name": "python3"
  },
  "language_info": {
   "codemirror_mode": {
    "name": "ipython",
    "version": 3
   },
   "file_extension": ".py",
   "mimetype": "text/x-python",
   "name": "python",
   "nbconvert_exporter": "python",
   "pygments_lexer": "ipython3",
   "version": "3.7.3"
  }
 },
 "nbformat": 4,
 "nbformat_minor": 2
}
