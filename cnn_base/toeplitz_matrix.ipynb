{
 "cells": [
  {
   "cell_type": "code",
   "execution_count": 2,
   "metadata": {},
   "outputs": [
    {
     "name": "stdout",
     "output_type": "stream",
     "text": [
      "2.1.0\n"
     ]
    }
   ],
   "source": [
    "# https://github.com/alisaaalehi/convolution_as_multiplication/blob/master/Convolution_as_multiplication.ipynb\n",
    "\n",
    "%matplotlib inline\n",
    "import matplotlib as mpl\n",
    "import matplotlib.pyplot as plt\n",
    "import numpy as np\n",
    "import os\n",
    "import pandas as pd\n",
    "import sklearn\n",
    "import sys\n",
    "import tensorflow as tf\n",
    "import time\n",
    "from PIL import Image\n",
    "import cv2\n",
    "\n",
    "from scipy.linalg import toeplitz\n",
    "from keras import backend as K\n",
    "from tensorflow import keras\n",
    "from tensorflow.keras.preprocessing import image\n",
    "print(tf.__version__)"
   ]
  },
  {
   "cell_type": "code",
   "execution_count": 44,
   "metadata": {},
   "outputs": [
    {
     "name": "stdout",
     "output_type": "stream",
     "text": [
      "I:  (4, 4)\n",
      "[[ 0  1  2  3]\n",
      " [ 4  5  6  7]\n",
      " [ 8  9 10 11]\n",
      " [12 13 14 15]]\n",
      "F:  (3, 3)\n",
      "[[ 1 -1  1]\n",
      " [ 0 -1  0]\n",
      " [ 0  1  0]]\n"
     ]
    }
   ],
   "source": [
    "# input signal\n",
    "I = np.arange(16).reshape(4,4)\n",
    "print('I: ', I.shape)\n",
    "print(I)\n",
    "\n",
    " # filter \n",
    "F = np.array([1,-1,1,0,-1,0,0,1,0]).reshape(3,3)\n",
    "print('F: ',F.shape)\n",
    "print(F)"
   ]
  },
  {
   "cell_type": "code",
   "execution_count": null,
   "metadata": {},
   "outputs": [],
   "source": [
    "# input signal\n",
    "I = np.array([[1, 2, 3], [4, 5, 6]])\n",
    "print('I: ', I.shape)\n",
    "print(I)\n",
    "\n",
    " # filter \n",
    "F = np.array([[10, 20], [30, 40]])\n",
    "print('F: ',F.shape)\n",
    "print(F)"
   ]
  },
  {
   "cell_type": "code",
   "execution_count": 45,
   "metadata": {},
   "outputs": [
    {
     "name": "stdout",
     "output_type": "stream",
     "text": [
      "output dimension: 6 6\n"
     ]
    }
   ],
   "source": [
    "# number columns and rows of the input \n",
    "I_row_num, I_col_num = I.shape \n",
    "\n",
    "# number of columns and rows of the filter\n",
    "F_row_num, F_col_num = F.shape\n",
    "\n",
    "#  calculate the output dimensions\n",
    "output_row_num = I_row_num + F_row_num - 1\n",
    "output_col_num = I_col_num + F_col_num - 1\n",
    "print('output dimension:', output_row_num, output_col_num)"
   ]
  },
  {
   "cell_type": "code",
   "execution_count": 46,
   "metadata": {},
   "outputs": [
    {
     "name": "stdout",
     "output_type": "stream",
     "text": [
      "F_zero_padded:  [[ 0  0  0  0  0  0]\n",
      " [ 0  0  0  0  0  0]\n",
      " [ 0  0  0  0  0  0]\n",
      " [ 1 -1  1  0  0  0]\n",
      " [ 0 -1  0  0  0  0]\n",
      " [ 0  1  0  0  0  0]]\n"
     ]
    }
   ],
   "source": [
    "# zero pad the filter\n",
    "F_zero_padded = np.pad(F, ((output_row_num - F_row_num, 0),\n",
    "                           (0, output_col_num - F_col_num)),\n",
    "                        'constant', constant_values=0)\n",
    "print('F_zero_padded: ', F_zero_padded)"
   ]
  },
  {
   "cell_type": "code",
   "execution_count": 47,
   "metadata": {},
   "outputs": [
    {
     "name": "stdout",
     "output_type": "stream",
     "text": [
      "F 5\n",
      " [[0. 0. 0. 0.]\n",
      " [1. 0. 0. 0.]\n",
      " [0. 1. 0. 0.]\n",
      " [0. 0. 1. 0.]\n",
      " [0. 0. 0. 1.]\n",
      " [0. 0. 0. 0.]]\n",
      "F 4\n",
      " [[ 0.  0.  0.  0.]\n",
      " [-1.  0.  0.  0.]\n",
      " [ 0. -1.  0.  0.]\n",
      " [ 0.  0. -1.  0.]\n",
      " [ 0.  0.  0. -1.]\n",
      " [ 0.  0.  0.  0.]]\n",
      "F 3\n",
      " [[ 1.  0.  0.  0.]\n",
      " [-1.  1.  0.  0.]\n",
      " [ 1. -1.  1.  0.]\n",
      " [ 0.  1. -1.  1.]\n",
      " [ 0.  0.  1. -1.]\n",
      " [ 0.  0.  0.  1.]]\n",
      "F 2\n",
      " [[0. 0. 0. 0.]\n",
      " [0. 0. 0. 0.]\n",
      " [0. 0. 0. 0.]\n",
      " [0. 0. 0. 0.]\n",
      " [0. 0. 0. 0.]\n",
      " [0. 0. 0. 0.]]\n",
      "F 1\n",
      " [[0. 0. 0. 0.]\n",
      " [0. 0. 0. 0.]\n",
      " [0. 0. 0. 0.]\n",
      " [0. 0. 0. 0.]\n",
      " [0. 0. 0. 0.]\n",
      " [0. 0. 0. 0.]]\n",
      "F 0\n",
      " [[0. 0. 0. 0.]\n",
      " [0. 0. 0. 0.]\n",
      " [0. 0. 0. 0.]\n",
      " [0. 0. 0. 0.]\n",
      " [0. 0. 0. 0.]\n",
      " [0. 0. 0. 0.]]\n"
     ]
    }
   ],
   "source": [
    "from scipy.linalg import toeplitz\n",
    "\n",
    "# use each row of the zero-padded F to creat a toeplitz matrix. \n",
    "#  Number of columns in this matrices are same as numbe of columns of input signal\n",
    "toeplitz_list = []\n",
    "for i in range(F_zero_padded.shape[0]-1, -1, -1): # iterate from last row to the first row\n",
    "    c = F_zero_padded[i, :] # i th row of the F \n",
    "    r = np.r_[c[0], np.zeros(I_col_num-1)] # first row for the toeplitz fuction should be defined otherwise\n",
    "                                                        # the result is wrong\n",
    "    toeplitz_m = toeplitz(c,r) # this function is in scipy.linalg library\n",
    "    toeplitz_list.append(toeplitz_m)\n",
    "    print('F '+ str(i)+'\\n', toeplitz_m)"
   ]
  },
  {
   "cell_type": "code",
   "execution_count": 48,
   "metadata": {},
   "outputs": [
    {
     "name": "stdout",
     "output_type": "stream",
     "text": [
      "doubly indices \n",
      " [[1 0 0 0]\n",
      " [2 1 0 0]\n",
      " [3 2 1 0]\n",
      " [4 3 2 1]\n",
      " [5 4 3 2]\n",
      " [6 5 4 3]]\n"
     ]
    }
   ],
   "source": [
    "# doubly blocked toeplitz indices: \n",
    "#  this matrix defines which toeplitz matrix from toeplitz_list goes to which part of the doubly blocked\n",
    "c = range(1, F_zero_padded.shape[0]+1)\n",
    "r = np.r_[c[0], np.zeros(I_row_num-1, dtype=int)]\n",
    "doubly_indices = toeplitz(c, r)\n",
    "print('doubly indices \\n', doubly_indices)"
   ]
  },
  {
   "cell_type": "code",
   "execution_count": 49,
   "metadata": {},
   "outputs": [],
   "source": [
    "## creat doubly blocked matrix with zero values\n",
    "toeplitz_shape = toeplitz_list[0].shape # shape of one toeplitz matrix\n",
    "h = toeplitz_shape[0]*doubly_indices.shape[0]\n",
    "w = toeplitz_shape[1]*doubly_indices.shape[1]\n",
    "doubly_blocked_shape = [h, w]\n",
    "doubly_blocked = np.zeros(doubly_blocked_shape)"
   ]
  },
  {
   "cell_type": "code",
   "execution_count": 50,
   "metadata": {},
   "outputs": [
    {
     "name": "stdout",
     "output_type": "stream",
     "text": [
      "doubly_blocked:  [[ 0.  0.  0.  0.  0.  0.  0.  0.  0.  0.  0.  0.  0.  0.  0.  0.]\n",
      " [ 1.  0.  0.  0.  0.  0.  0.  0.  0.  0.  0.  0.  0.  0.  0.  0.]\n",
      " [ 0.  1.  0.  0.  0.  0.  0.  0.  0.  0.  0.  0.  0.  0.  0.  0.]\n",
      " [ 0.  0.  1.  0.  0.  0.  0.  0.  0.  0.  0.  0.  0.  0.  0.  0.]\n",
      " [ 0.  0.  0.  1.  0.  0.  0.  0.  0.  0.  0.  0.  0.  0.  0.  0.]\n",
      " [ 0.  0.  0.  0.  0.  0.  0.  0.  0.  0.  0.  0.  0.  0.  0.  0.]\n",
      " [ 0.  0.  0.  0.  0.  0.  0.  0.  0.  0.  0.  0.  0.  0.  0.  0.]\n",
      " [-1.  0.  0.  0.  1.  0.  0.  0.  0.  0.  0.  0.  0.  0.  0.  0.]\n",
      " [ 0. -1.  0.  0.  0.  1.  0.  0.  0.  0.  0.  0.  0.  0.  0.  0.]\n",
      " [ 0.  0. -1.  0.  0.  0.  1.  0.  0.  0.  0.  0.  0.  0.  0.  0.]\n",
      " [ 0.  0.  0. -1.  0.  0.  0.  1.  0.  0.  0.  0.  0.  0.  0.  0.]\n",
      " [ 0.  0.  0.  0.  0.  0.  0.  0.  0.  0.  0.  0.  0.  0.  0.  0.]\n",
      " [ 1.  0.  0.  0.  0.  0.  0.  0.  0.  0.  0.  0.  0.  0.  0.  0.]\n",
      " [-1.  1.  0.  0. -1.  0.  0.  0.  1.  0.  0.  0.  0.  0.  0.  0.]\n",
      " [ 1. -1.  1.  0.  0. -1.  0.  0.  0.  1.  0.  0.  0.  0.  0.  0.]\n",
      " [ 0.  1. -1.  1.  0.  0. -1.  0.  0.  0.  1.  0.  0.  0.  0.  0.]\n",
      " [ 0.  0.  1. -1.  0.  0.  0. -1.  0.  0.  0.  1.  0.  0.  0.  0.]\n",
      " [ 0.  0.  0.  1.  0.  0.  0.  0.  0.  0.  0.  0.  0.  0.  0.  0.]\n",
      " [ 0.  0.  0.  0.  1.  0.  0.  0.  0.  0.  0.  0.  0.  0.  0.  0.]\n",
      " [ 0.  0.  0.  0. -1.  1.  0.  0. -1.  0.  0.  0.  1.  0.  0.  0.]\n",
      " [ 0.  0.  0.  0.  1. -1.  1.  0.  0. -1.  0.  0.  0.  1.  0.  0.]\n",
      " [ 0.  0.  0.  0.  0.  1. -1.  1.  0.  0. -1.  0.  0.  0.  1.  0.]\n",
      " [ 0.  0.  0.  0.  0.  0.  1. -1.  0.  0.  0. -1.  0.  0.  0.  1.]\n",
      " [ 0.  0.  0.  0.  0.  0.  0.  1.  0.  0.  0.  0.  0.  0.  0.  0.]\n",
      " [ 0.  0.  0.  0.  0.  0.  0.  0.  1.  0.  0.  0.  0.  0.  0.  0.]\n",
      " [ 0.  0.  0.  0.  0.  0.  0.  0. -1.  1.  0.  0. -1.  0.  0.  0.]\n",
      " [ 0.  0.  0.  0.  0.  0.  0.  0.  1. -1.  1.  0.  0. -1.  0.  0.]\n",
      " [ 0.  0.  0.  0.  0.  0.  0.  0.  0.  1. -1.  1.  0.  0. -1.  0.]\n",
      " [ 0.  0.  0.  0.  0.  0.  0.  0.  0.  0.  1. -1.  0.  0.  0. -1.]\n",
      " [ 0.  0.  0.  0.  0.  0.  0.  0.  0.  0.  0.  1.  0.  0.  0.  0.]\n",
      " [ 0.  0.  0.  0.  0.  0.  0.  0.  0.  0.  0.  0.  1.  0.  0.  0.]\n",
      " [ 0.  0.  0.  0.  0.  0.  0.  0.  0.  0.  0.  0. -1.  1.  0.  0.]\n",
      " [ 0.  0.  0.  0.  0.  0.  0.  0.  0.  0.  0.  0.  1. -1.  1.  0.]\n",
      " [ 0.  0.  0.  0.  0.  0.  0.  0.  0.  0.  0.  0.  0.  1. -1.  1.]\n",
      " [ 0.  0.  0.  0.  0.  0.  0.  0.  0.  0.  0.  0.  0.  0.  1. -1.]\n",
      " [ 0.  0.  0.  0.  0.  0.  0.  0.  0.  0.  0.  0.  0.  0.  0.  1.]]\n"
     ]
    }
   ],
   "source": [
    "# tile toeplitz matrices for each row in the doubly blocked matrix\n",
    "b_h, b_w = toeplitz_shape # hight and withs of each block\n",
    "for i in range(doubly_indices.shape[0]):\n",
    "    for j in range(doubly_indices.shape[1]):\n",
    "        start_i = i * b_h\n",
    "        start_j = j * b_w\n",
    "        end_i = start_i + b_h\n",
    "        end_j = start_j + b_w\n",
    "        doubly_blocked[start_i: end_i, start_j:end_j] = toeplitz_list[doubly_indices[i,j]-1]\n",
    "\n",
    "print('doubly_blocked: ', doubly_blocked)"
   ]
  },
  {
   "cell_type": "code",
   "execution_count": 51,
   "metadata": {},
   "outputs": [],
   "source": [
    "def matrix_to_vector(input):\n",
    "    input_h, input_w = input.shape\n",
    "    output_vector = np.zeros(input_h*input_w, dtype=input.dtype)\n",
    "    # flip the input matrix up-down because last row should go first\n",
    "    input = np.flipud(input) \n",
    "    for i,row in enumerate(input):\n",
    "        st = i*input_w\n",
    "        nd = st + input_w\n",
    "        output_vector[st:nd] = row\n",
    "        \n",
    "    return output_vector"
   ]
  },
  {
   "cell_type": "code",
   "execution_count": 52,
   "metadata": {},
   "outputs": [
    {
     "name": "stdout",
     "output_type": "stream",
     "text": [
      "vectorized_I:  [12 13 14 15  8  9 10 11  4  5  6  7  0  1  2  3]\n"
     ]
    }
   ],
   "source": [
    "# call the function\n",
    "vectorized_I = matrix_to_vector(I)\n",
    "print('vectorized_I: ', vectorized_I)"
   ]
  },
  {
   "cell_type": "code",
   "execution_count": 53,
   "metadata": {},
   "outputs": [
    {
     "name": "stdout",
     "output_type": "stream",
     "text": [
      "result_vector:  [ 0. 12. 13. 14. 15.  0.  0. -4. -4. -4. -4.  0. 12. -3.  9. 10. -5. 15.\n",
      "  8. -3.  5.  6. -5. 11.  4.  1.  4.  4. -4.  7.  0.  1.  1.  2. -1.  3.]\n"
     ]
    }
   ],
   "source": [
    "# get result of the convolution by matrix mupltiplication\n",
    "result_vector = np.matmul(doubly_blocked, vectorized_I)\n",
    "print('result_vector: ', result_vector)"
   ]
  },
  {
   "cell_type": "code",
   "execution_count": 54,
   "metadata": {},
   "outputs": [],
   "source": [
    "def vector_to_matrix(input, output_shape):\n",
    "    output_h, output_w = output_shape\n",
    "    output = np.zeros(output_shape, dtype=input.dtype)\n",
    "    for i in range(output_h):\n",
    "        st = i*output_w\n",
    "        nd = st + output_w\n",
    "        output[i, :] = input[st:nd]\n",
    "    # flip the output matrix up-down to get correct result\n",
    "    output=np.flipud(output)\n",
    "    return output"
   ]
  },
  {
   "cell_type": "code",
   "execution_count": 55,
   "metadata": {},
   "outputs": [
    {
     "name": "stdout",
     "output_type": "stream",
     "text": [
      "Result of implemented method: \n",
      " [[ 0.  1.  1.  2. -1.  3.]\n",
      " [ 4.  1.  4.  4. -4.  7.]\n",
      " [ 8. -3.  5.  6. -5. 11.]\n",
      " [12. -3.  9. 10. -5. 15.]\n",
      " [ 0. -4. -4. -4. -4.  0.]\n",
      " [ 0. 12. 13. 14. 15.  0.]]\n"
     ]
    }
   ],
   "source": [
    "# reshape the raw rsult to desired matrix form\n",
    "out_shape = [output_row_num, output_col_num]\n",
    "my_output = vector_to_matrix(result_vector, out_shape)\n",
    "\n",
    "print('Result of implemented method: \\n', my_output)"
   ]
  },
  {
   "cell_type": "code",
   "execution_count": 60,
   "metadata": {},
   "outputs": [],
   "source": [
    "from scipy import signal\n",
    "\n",
    "lib_output = signal.convolve2d(I, F, \"full\")"
   ]
  },
  {
   "cell_type": "code",
   "execution_count": 61,
   "metadata": {},
   "outputs": [
    {
     "data": {
      "text/plain": [
       "array([[ 0,  1,  1,  2, -1,  3],\n",
       "       [ 4,  1,  4,  4, -4,  7],\n",
       "       [ 8, -3,  5,  6, -5, 11],\n",
       "       [12, -3,  9, 10, -5, 15],\n",
       "       [ 0, -4, -4, -4, -4,  0],\n",
       "       [ 0, 12, 13, 14, 15,  0]])"
      ]
     },
     "execution_count": 61,
     "metadata": {},
     "output_type": "execute_result"
    }
   ],
   "source": [
    "lib_output"
   ]
  },
  {
   "cell_type": "code",
   "execution_count": null,
   "metadata": {},
   "outputs": [],
   "source": []
  }
 ],
 "metadata": {
  "kernelspec": {
   "display_name": "Python 3",
   "language": "python",
   "name": "python3"
  },
  "language_info": {
   "codemirror_mode": {
    "name": "ipython",
    "version": 3
   },
   "file_extension": ".py",
   "mimetype": "text/x-python",
   "name": "python",
   "nbconvert_exporter": "python",
   "pygments_lexer": "ipython3",
   "version": "3.7.3"
  }
 },
 "nbformat": 4,
 "nbformat_minor": 2
}
