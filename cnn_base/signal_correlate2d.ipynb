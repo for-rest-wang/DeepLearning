{
 "cells": [
  {
   "cell_type": "code",
   "execution_count": 1,
   "metadata": {},
   "outputs": [],
   "source": [
    "# http://www.telesens.co/2018/04/09/initializing-weights-for-the-convolutional-and-fully-connected-layers/\n",
    "\n",
    "from scipy import signal\n",
    "from scipy import misc\n",
    "import numpy as np\n",
    "from numpy import zeros"
   ]
  },
  {
   "cell_type": "code",
   "execution_count": 2,
   "metadata": {},
   "outputs": [],
   "source": [
    "def unfold_matrix(X, k):\n",
    "    n, m = X.shape[0:2]\n",
    "    xx = zeros(((n - k + 1) * (m - k + 1), k**2))\n",
    "    row_num = 0\n",
    "    def make_row(x):\n",
    "        return x.flatten()\n",
    "\n",
    "    for i in range(n- k+ 1):\n",
    "        for j in range(m - k + 1):\n",
    "            #collect block of m*m elements and convert to row\n",
    "            xx[row_num,:] = make_row(X[i:i+k, j:j+k])\n",
    "            row_num = row_num + 1\n",
    "\n",
    "    return xx"
   ]
  },
  {
   "cell_type": "code",
   "execution_count": 13,
   "metadata": {},
   "outputs": [],
   "source": [
    "w =  np.array([1,-1,1,0,-1,0,0,1,0]).astype(\"float32\").reshape(3,3)"
   ]
  },
  {
   "cell_type": "code",
   "execution_count": 14,
   "metadata": {},
   "outputs": [],
   "source": [
    "x = np.arange(25).reshape(5,5)"
   ]
  },
  {
   "cell_type": "code",
   "execution_count": 15,
   "metadata": {},
   "outputs": [],
   "source": [
    "n, m = x.shape[0:2]"
   ]
  },
  {
   "cell_type": "code",
   "execution_count": 16,
   "metadata": {},
   "outputs": [
    {
     "name": "stdout",
     "output_type": "stream",
     "text": [
      "5 5\n"
     ]
    }
   ],
   "source": [
    "print(n,m)"
   ]
  },
  {
   "cell_type": "code",
   "execution_count": 17,
   "metadata": {},
   "outputs": [
    {
     "data": {
      "text/plain": [
       "3"
      ]
     },
     "execution_count": 17,
     "metadata": {},
     "output_type": "execute_result"
    }
   ],
   "source": [
    "k = w.shape[0]\n",
    "k"
   ]
  },
  {
   "cell_type": "code",
   "execution_count": 37,
   "metadata": {},
   "outputs": [
    {
     "data": {
      "text/plain": [
       "array([[  0.,   0.,   1.,   2.,   3.,   4.,   0.],\n",
       "       [  0.,   5.,   5.,   5.,   5.,   5.,   0.],\n",
       "       [  0.,   6.,   6.,   7.,   8.,   4.,   4.],\n",
       "       [  5.,   6.,  11.,  12.,  13.,   4.,   9.],\n",
       "       [ 10.,   6.,  16.,  17.,  18.,   4.,  14.],\n",
       "       [ 15., -19.,  -5.,  -5.,  -5., -25.,  19.],\n",
       "       [ 20.,   1.,  21.,  22.,  23.,  -1.,  24.]])"
      ]
     },
     "execution_count": 37,
     "metadata": {},
     "output_type": "execute_result"
    }
   ],
   "source": [
    "y = signal.correlate2d(x, w, mode='full')\n",
    "y"
   ]
  },
  {
   "cell_type": "code",
   "execution_count": 36,
   "metadata": {},
   "outputs": [
    {
     "data": {
      "text/plain": [
       "array([[ 0.,  1.,  2.,  5.,  6.,  7., 10., 11., 12.],\n",
       "       [ 1.,  2.,  3.,  6.,  7.,  8., 11., 12., 13.],\n",
       "       [ 2.,  3.,  4.,  7.,  8.,  9., 12., 13., 14.],\n",
       "       [ 5.,  6.,  7., 10., 11., 12., 15., 16., 17.],\n",
       "       [ 6.,  7.,  8., 11., 12., 13., 16., 17., 18.],\n",
       "       [ 7.,  8.,  9., 12., 13., 14., 17., 18., 19.],\n",
       "       [10., 11., 12., 15., 16., 17., 20., 21., 22.],\n",
       "       [11., 12., 13., 16., 17., 18., 21., 22., 23.],\n",
       "       [12., 13., 14., 17., 18., 19., 22., 23., 24.]])"
      ]
     },
     "execution_count": 36,
     "metadata": {},
     "output_type": "execute_result"
    }
   ],
   "source": [
    "x_unfolded = unfold_matrix(x, 3)\n",
    "x_unfolded"
   ]
  },
  {
   "cell_type": "code",
   "execution_count": 22,
   "metadata": {},
   "outputs": [
    {
     "data": {
      "text/plain": [
       "array([ 1., -1.,  1.,  0., -1.,  0.,  0.,  1.,  0.], dtype=float32)"
      ]
     },
     "execution_count": 22,
     "metadata": {},
     "output_type": "execute_result"
    }
   ],
   "source": [
    "w_flat = w.flatten()\n",
    "w_flat"
   ]
  },
  {
   "cell_type": "code",
   "execution_count": 30,
   "metadata": {},
   "outputs": [
    {
     "data": {
      "text/plain": [
       "array([ 6.,  7.,  8., 11., 12., 13., 16., 17., 18.])"
      ]
     },
     "execution_count": 30,
     "metadata": {},
     "output_type": "execute_result"
    }
   ],
   "source": [
    "yy = np.dot(x_unfolded, w_flat)\n",
    "yy"
   ]
  },
  {
   "cell_type": "code",
   "execution_count": 26,
   "metadata": {},
   "outputs": [
    {
     "name": "stdout",
     "output_type": "stream",
     "text": [
      "[[ 6.  7.  8.]\n",
      " [11. 12. 13.]\n",
      " [16. 17. 18.]]\n"
     ]
    }
   ],
   "source": [
    "yy = yy.reshape((n-k+1, m-k+1))\n",
    "print(yy)"
   ]
  },
  {
   "cell_type": "code",
   "execution_count": null,
   "metadata": {},
   "outputs": [],
   "source": []
  }
 ],
 "metadata": {
  "kernelspec": {
   "display_name": "Python 3",
   "language": "python",
   "name": "python3"
  },
  "language_info": {
   "codemirror_mode": {
    "name": "ipython",
    "version": 3
   },
   "file_extension": ".py",
   "mimetype": "text/x-python",
   "name": "python",
   "nbconvert_exporter": "python",
   "pygments_lexer": "ipython3",
   "version": "3.7.3"
  }
 },
 "nbformat": 4,
 "nbformat_minor": 2
}
